{
 "cells": [
  {
   "cell_type": "code",
   "execution_count": 1,
   "metadata": {},
   "outputs": [],
   "source": [
    "const { API, Util } = require(\"..\");"
   ]
  },
  {
   "cell_type": "code",
   "execution_count": 2,
   "metadata": {},
   "outputs": [],
   "source": [
    "API.connect(\"testnet\");"
   ]
  },
  {
   "cell_type": "code",
   "execution_count": 3,
   "metadata": {},
   "outputs": [
    {
     "data": {
      "text/plain": [
       "[ { name: 'BTC/USDT', minimumQty: 0.0001 },\n",
       "  { name: 'ETH/BTC', minimumQty: 0.0001 },\n",
       "  { name: 'ETH/NYX', minimumQty: 0.0001 },\n",
       "  { name: 'ETH/TZBTC', minimumQty: 0.0001 },\n",
       "  { name: 'ETH/USDT', minimumQty: 0.0001 },\n",
       "  { name: 'FA2/BTC', minimumQty: 0.0001 },\n",
       "  { name: 'FA2/ETH', minimumQty: 0.0001 },\n",
       "  { name: 'LTC/BTC', minimumQty: 0.0001 },\n",
       "  { name: 'LTC/USDT', minimumQty: 0.0001 },\n",
       "  { name: 'NYX/BTC', minimumQty: 0.0001 },\n",
       "  { name: 'TZBTC/BTC', minimumQty: 0.0001 },\n",
       "  { name: 'TZBTC/USDT', minimumQty: 0.0001 },\n",
       "  { name: 'XTZ/BTC', minimumQty: 0.0001 },\n",
       "  { name: 'XTZ/ETH', minimumQty: 0.0001 },\n",
       "  { name: 'XTZ/TZBTC', minimumQty: 0.0001 },\n",
       "  { name: 'XTZ/USDT', minimumQty: 0.0001 } ]"
      ]
     },
     "execution_count": 3,
     "metadata": {},
     "output_type": "execute_result"
    }
   ],
   "source": [
    "API.getSymbols()"
   ]
  },
  {
   "cell_type": "code",
   "execution_count": 4,
   "metadata": {},
   "outputs": [
    {
     "data": {
      "text/plain": [
       "{ updateId: 6,\n",
       "  symbol: 'XTZ/ETH',\n",
       "  entries: [ { side: 'Sell', price: 0.02, qtyProfile: [Array] } ] }"
      ]
     },
     "execution_count": 4,
     "metadata": {},
     "output_type": "execute_result"
    }
   ],
   "source": [
    "API.getOrderBook(\"XTZ/ETH\")"
   ]
  },
  {
   "cell_type": "markdown",
   "metadata": {},
   "source": [
    "## Authentication"
   ]
  },
  {
   "cell_type": "code",
   "execution_count": 84,
   "metadata": {},
   "outputs": [
    {
     "data": {
      "text/plain": [
       "{ timeStamp: 1603047844869,\n",
       "  message: 'Signing in ',\n",
       "  msgToSign: 'Signing in 1603047844869' }"
      ]
     },
     "execution_count": 84,
     "metadata": {},
     "output_type": "execute_result"
    }
   ],
   "source": [
    "authMessage = Util.getAuthMessage(\"Signing in \")"
   ]
  },
  {
   "cell_type": "code",
   "execution_count": 85,
   "metadata": {},
   "outputs": [
    {
     "ename": "SyntaxError",
     "evalue": "Identifier 'Web3' has already been declared",
     "output_type": "error",
     "traceback": [
      "evalmachine.<anonymous>:1",
      "const Web3 = require('web3');",
      "^",
      "",
      "SyntaxError: Identifier 'Web3' has already been declared",
      "    at evalmachine.<anonymous>:1:1",
      "    at Script.runInThisContext (vm.js:122:20)",
      "    at Object.runInThisContext (vm.js:329:38)",
      "    at run ([eval]:1054:15)",
      "    at onRunRequest ([eval]:888:18)",
      "    at onMessage ([eval]:848:13)",
      "    at process.emit (events.js:198:13)",
      "    at emit (internal/child_process.js:832:12)",
      "    at process._tickCallback (internal/process/next_tick.js:63:19)"
     ]
    }
   ],
   "source": [
    "const Web3 = require('web3');"
   ]
  },
  {
   "cell_type": "code",
   "execution_count": 8,
   "metadata": {},
   "outputs": [],
   "source": [
    "let web3 = new Web3(Web3.givenProvider);"
   ]
  },
  {
   "cell_type": "code",
   "execution_count": 86,
   "metadata": {},
   "outputs": [
    {
     "data": {
      "text/plain": [
       "{ address: '0xEB014f8c8B418Db6b45774c326A0E64C78914dC0',\n",
       "  privateKey:\n",
       "   '0xbe6383dad004f233317e46ddb46ad31b16064d14447a95cc1d8c8d4bc61c3728',\n",
       "  signTransaction: [Function: signTransaction],\n",
       "  sign: [Function: sign],\n",
       "  encrypt: [Function: encrypt] }"
      ]
     },
     "execution_count": 86,
     "metadata": {},
     "output_type": "execute_result"
    }
   ],
   "source": [
    "account = web3.eth.accounts.privateKeyToAccount('0xbe6383dad004f233317e46ddb46ad31b16064d14447a95cc1d8c8d4bc61c3728')"
   ]
  },
  {
   "cell_type": "code",
   "execution_count": 87,
   "metadata": {},
   "outputs": [],
   "source": [
    "//let account = web3.eth.accounts.create(['west', 'jump', 'brand', 'track', 'wage', 'crop', \n",
    "//                                        'three', 'loud', 'among', 'eight', 'icon', 'image']);"
   ]
  },
  {
   "cell_type": "code",
   "execution_count": 88,
   "metadata": {
    "scrolled": true
   },
   "outputs": [
    {
     "data": {
      "text/plain": [
       "{ message: 'Signing in 1603047844869',\n",
       "  messageHash:\n",
       "   '0x56b5cd46abde7fbf778a75df1945ccead647a3fa2c69d12a4bb9ec5fd9fa1308',\n",
       "  v: '0x1b',\n",
       "  r:\n",
       "   '0x427e3e506f2e42751acb88f7bd97310eb778ffd78e6c0f74dd5de7f494238b23',\n",
       "  s:\n",
       "   '0x08e5c9316bf82d03945cb6cf31fdac323d1e3aebd7a95d7c6bb17cfc262702ab',\n",
       "  signature:\n",
       "   '0x427e3e506f2e42751acb88f7bd97310eb778ffd78e6c0f74dd5de7f494238b2308e5c9316bf82d03945cb6cf31fdac323d1e3aebd7a95d7c6bb17cfc262702ab1b' }"
      ]
     },
     "execution_count": 88,
     "metadata": {},
     "output_type": "execute_result"
    }
   ],
   "source": [
    "sig = account.sign(authMessage['msgToSign'])"
   ]
  },
  {
   "cell_type": "code",
   "execution_count": 89,
   "metadata": {},
   "outputs": [
    {
     "data": {
      "text/plain": [
       "'0x56b5cd46abde7fbf778a75df1945ccead647a3fa2c69d12a4bb9ec5fd9fa1308'"
      ]
     },
     "execution_count": 89,
     "metadata": {},
     "output_type": "execute_result"
    }
   ],
   "source": [
    "web3.eth.accounts.hashMessage(authMessage['msgToSign'])"
   ]
  },
  {
   "cell_type": "code",
   "execution_count": 97,
   "metadata": {},
   "outputs": [
    {
     "data": {
      "text/plain": [
       "{ timeStamp: 1603047844869,\n",
       "  message: 'Signing in ',\n",
       "  publicKey:\n",
       "   '0492c4d2894b93d64189d6e2fc660e9090622148f8088c4bd967879d32ed438f9178852b4d34a23021da02b07ff7acc1ffb29404fd268f1c8cea7f92bfc24fdc48',\n",
       "  signature:\n",
       "   '1638464c7e4c76e75caefdbc2e00ec066dc7630f8f9b42654d239841c25e787b4fa53c7f01d4f15afa7240e5fd17cf3b1fa536b487f9abaa1ebc64f4259b6d58',\n",
       "  algorithm: 'Sha256WithEcdsa:Secp256k1' }"
      ]
     },
     "execution_count": 97,
     "metadata": {},
     "output_type": "execute_result"
    }
   ],
   "source": [
    "authRequest = {\n",
    "    timeStamp: authMessage['timeStamp'],\n",
    "    message: authMessage['message'],\n",
    "    publicKey: '0492c4d2894b93d64189d6e2fc660e9090622148f8088c4bd967879d32ed438f9178852b4d34a23021da02b07ff7acc1ffb29404fd268f1c8cea7f92bfc24fdc48',\n",
    "    signature: '1638464c7e4c76e75caefdbc2e00ec066dc7630f8f9b42654d239841c25e787b4fa53c7f01d4f15afa7240e5fd17cf3b1fa536b487f9abaa1ebc64f4259b6d58',\n",
    "    algorithm: 'Sha256WithEcdsa:Secp256k1'\n",
    "}"
   ]
  },
  {
   "cell_type": "code",
   "execution_count": 98,
   "metadata": {
    "scrolled": true
   },
   "outputs": [
    {
     "ename": "Error",
     "evalue": "{\"code\":400,\"message\":\"Invalid auth request parameters.\"}",
     "output_type": "error",
     "traceback": [
      "Error: {\"code\":400,\"message\":\"Invalid auth request parameters.\"}",
      "    at /home/mickey/atomex-sdk-ts/lib/api/util/index.js:114:23",
      "    at step (/home/mickey/atomex-sdk-ts/lib/api/util/index.js:44:23)",
      "    at Object.next (/home/mickey/atomex-sdk-ts/lib/api/util/index.js:25:53)",
      "    at fulfilled (/home/mickey/atomex-sdk-ts/lib/api/util/index.js:16:58)",
      "    at process._tickCallback (internal/process/next_tick.js:68:7)"
     ]
    }
   ],
   "source": [
    "API.getAuthToken(authRequest)"
   ]
  },
  {
   "cell_type": "code",
   "execution_count": 80,
   "metadata": {},
   "outputs": [],
   "source": [
    "const elliptic = require(\"elliptic\");\n",
    "const secp256k1 = new (elliptic.ec)(\"secp256k1\"); // eslint-disable-line"
   ]
  },
  {
   "cell_type": "code",
   "execution_count": 81,
   "metadata": {},
   "outputs": [
    {
     "data": {
      "text/plain": [
       "Signature {\n",
       "  r:\n",
       "   <BN: 1b460a5d0b794a4e11a3975cb14a5d204eb8a5b0af8d222586007756e4d19a9f>,\n",
       "  s:\n",
       "   <BN: 4af7dc4f49e74f3b05c3b1a49cf2a86d30da99af5471e8c2562adc9ce8349c9a>,\n",
       "  recoveryParam: 0 }"
      ]
     },
     "execution_count": 81,
     "metadata": {},
     "output_type": "execute_result"
    },
    {
     "name": "stderr",
     "output_type": "stream",
     "text": [
      "(node:31380) [DEP0005] DeprecationWarning: Buffer() is deprecated due to security and usability issues. Please use the Buffer.alloc(), Buffer.allocUnsafe(), or Buffer.from() methods instead.\n",
      "(node:31380) [DEP0079] DeprecationWarning: Custom inspection function on Objects via .inspect() is deprecated\n"
     ]
    }
   ],
   "source": [
    "secp256k1\n",
    "    .keyFromPrivate(new Buffer(\"be6383dad004f233317e46ddb46ad31b16064d14447a95cc1d8c8d4bc61c3728\", \"hex\"))\n",
    "    .sign(new Buffer(\"3dfa48aa7ba97cd3de413fe2f63ee383d27fd48884c5686d272982580b49d512\", \"hex\"), {canonical: true});"
   ]
  },
  {
   "cell_type": "code",
   "execution_count": 1,
   "metadata": {},
   "outputs": [
    {
     "ename": "Error",
     "evalue": "Cannot find module '@supabase/postgrest-js'",
     "output_type": "error",
     "traceback": [
      "internal/modules/cjs/loader.js:638",
      "    throw err;",
      "    ^",
      "",
      "Error: Cannot find module '@supabase/postgrest-js'",
      "    at Function.Module._resolveFilename (internal/modules/cjs/loader.js:636:15)",
      "    at Function.Module._load (internal/modules/cjs/loader.js:562:25)",
      "    at Module.require (internal/modules/cjs/loader.js:692:17)",
      "    at require (internal/modules/cjs/helpers.js:25:18)",
      "    at evalmachine.<anonymous>:1:25",
      "    at Script.runInThisContext (vm.js:122:20)",
      "    at Object.runInThisContext (vm.js:329:38)",
      "    at run ([eval]:1054:15)",
      "    at onRunRequest ([eval]:888:18)",
      "    at onMessage ([eval]:848:13)"
     ]
    }
   ],
   "source": [
    "const PostgrestClient = require('@supabase/postgrest-js')"
   ]
  },
  {
   "cell_type": "code",
   "execution_count": null,
   "metadata": {},
   "outputs": [],
   "source": []
  }
 ],
 "metadata": {
  "kernelspec": {
   "display_name": "Javascript (Node.js)",
   "language": "javascript",
   "name": "javascript"
  },
  "language_info": {
   "file_extension": ".js",
   "mimetype": "application/javascript",
   "name": "javascript",
   "version": "10.16.3"
  },
  "toc": {
   "base_numbering": 1,
   "nav_menu": {},
   "number_sections": true,
   "sideBar": true,
   "skip_h1_title": false,
   "title_cell": "Table of Contents",
   "title_sidebar": "Contents",
   "toc_cell": false,
   "toc_position": {},
   "toc_section_display": true,
   "toc_window_display": false
  },
  "varInspector": {
   "cols": {
    "lenName": 16,
    "lenType": 16,
    "lenVar": 40
   },
   "kernels_config": {
    "python": {
     "delete_cmd_postfix": "",
     "delete_cmd_prefix": "del ",
     "library": "var_list.py",
     "varRefreshCmd": "print(var_dic_list())"
    },
    "r": {
     "delete_cmd_postfix": ") ",
     "delete_cmd_prefix": "rm(",
     "library": "var_list.r",
     "varRefreshCmd": "cat(var_dic_list()) "
    }
   },
   "types_to_exclude": [
    "module",
    "function",
    "builtin_function_or_method",
    "instance",
    "_Feature"
   ],
   "window_display": false
  }
 },
 "nbformat": 4,
 "nbformat_minor": 2
}
